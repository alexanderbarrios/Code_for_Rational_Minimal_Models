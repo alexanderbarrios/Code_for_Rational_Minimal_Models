{
 "cells": [
  {
   "cell_type": "code",
   "execution_count": 3,
   "metadata": {
    "collapsed": false
   },
   "outputs": [
   ],
   "source": [
    "load('models.sage')"
   ]
  },
  {
   "cell_type": "markdown",
   "metadata": {
    "collapsed": false
   },
   "source": [
    "This code verifies Lemma 2.9 of *Minimal models of rational elliptic curves with non-trivial torsion*."
   ]
  },
  {
   "cell_type": "markdown",
   "metadata": {
    "collapsed": false
   },
   "source": [
    "The code below verifies that $\\mathcal{X}_{b/a}(T)$ and $E_T$ are $\\mathbb{Q}(a,b)$-isomorphic."
   ]
  },
  {
   "cell_type": "code",
   "execution_count": 3,
   "metadata": {
    "collapsed": false
   },
   "outputs": [
    {
     "name": "stdout",
     "output_type": "stream",
     "text": [
      "True\n",
      "True\n",
      "True\n",
      "True\n",
      "True\n",
      "True\n",
      "True\n",
      "True\n",
      "True\n",
      "True\n",
      "True\n",
      "True\n"
     ]
    }
   ],
   "source": [
    "print(X3(b/a).change_weierstrass_model(1/(a),0,0,0)==E3(a,b))\n",
    "print(X4(b/a).change_weierstrass_model(1/(a),0,0,0)==E4(a,b))\n",
    "print(X5(b/a).change_weierstrass_model(1/(a),0,0,0)==E5(a,b))\n",
    "print(X6(b/a).change_weierstrass_model(1/(a),0,0,0)==E6(a,b))\n",
    "print(X7(b/a).change_weierstrass_model(1/(a^2),0,0,0)==E7(a,b))\n",
    "print(X8(b/a).change_weierstrass_model(1/(a*b),0,0,0)==E8(a,b))\n",
    "print(X9(b/a).change_weierstrass_model(1/(a^3),0,0,0)==E9(a,b))\n",
    "print(X10(b/a).change_weierstrass_model(1/(a*(a^2-3*a*b+b^2)),0,0,0)==E10(a,b))\n",
    "print(X12(b/a).change_weierstrass_model(1/(a*(-a+b)^3),0,0,0)==E12(a,b))\n",
    "print(X24(b/a).change_weierstrass_model(1/(a),0,0,0)==E24(a,b))\n",
    "print(X26(b/a).change_weierstrass_model(1/(-9*a^2+b^2),0,0,0)==E26(a,b))\n",
    "print(X28(b/a).change_weierstrass_model(1/(2*b*(a+4*b)*(-a^2+8*b^2)),0,0,0)==E28(a,b))"
   ]
  },
  {
   "cell_type": "markdown",
   "metadata": {
    "collapsed": false
   },
   "source": [
    "Next, we provide $\\alpha_T, \\beta_T, \\gamma_T$. These are the invariants $c_4,c_6$, and discriminant $\\Delta$, respectively, of $E_T$. "
   ]
  },
  {
   "cell_type": "markdown",
   "metadata": {
    "collapsed": false
   },
   "source": [
    "Let $T=C_2$. Below, we give $\\alpha_T, \\beta_T$, and $\\gamma_T$."
   ]
  },
  {
   "cell_type": "code",
   "execution_count": 6,
   "metadata": {
    "collapsed": false
   },
   "outputs": [
    {
     "name": "stdout",
     "output_type": "stream",
     "text": [
      "(16) * (3*b^2*d + a^2)\n",
      "(-64) * a * (9*b^2*d - a^2)\n",
      "(64) * d * b^2 * (b^2*d - a^2)^2\n"
     ]
    }
   ],
   "source": [
    "print(factor(E2(a,b,d).c4()))\n",
    "print(factor(E2(a,b,d).c6()))\n",
    "print(factor(E2(a,b,d).discriminant()))"
   ]
  },
  {
   "cell_type": "markdown",
   "metadata": {
    "collapsed": false
   },
   "source": [
    "Let $T=C_3$. Below, we give $\\alpha_T, \\beta_T$, and $\\gamma_T$."
   ]
  },
  {
   "cell_type": "code",
   "execution_count": 7,
   "metadata": {
    "collapsed": false
   },
   "outputs": [
    {
     "name": "stdout",
     "output_type": "stream",
     "text": [
      "(-1) * (-a + 24*b) * a^3\n",
      "(-1) * a^4 * (a^2 - 36*a*b + 216*b^2)\n",
      "(-1) * (-a + 27*b) * b^3 * a^8\n"
     ]
    }
   ],
   "source": [
    "print(factor(E3(a,b).c4()))\n",
    "print(factor(E3(a,b).c6()))\n",
    "print(factor(E3(a,b).discriminant()))"
   ]
  },
  {
   "cell_type": "markdown",
   "metadata": {
    "collapsed": false
   },
   "source": [
    "Let $T=C_4$. Below, we give $\\alpha_T, \\beta_T$, and $\\gamma_T$."
   ]
  },
  {
   "cell_type": "code",
   "execution_count": 8,
   "metadata": {
    "collapsed": false
   },
   "outputs": [
    {
     "name": "stdout",
     "output_type": "stream",
     "text": [
      "a^2 * (a^2 + 16*a*b + 16*b^2)\n",
      "(a + 8*b) * a^3 * (-a^2 - 16*a*b + 8*b^2)\n",
      "(a + 16*b) * b^4 * a^7\n"
     ]
    }
   ],
   "source": [
    "print(factor(E4(a,b).c4()))\n",
    "print(factor(E4(a,b).c6()))\n",
    "print(factor(E4(a,b).discriminant()))"
   ]
  },
  {
   "cell_type": "markdown",
   "metadata": {
    "collapsed": false
   },
   "source": [
    "Let $T=C_5$. Below, we give $\\alpha_T, \\beta_T$, and $\\gamma_T$."
   ]
  },
  {
   "cell_type": "code",
   "execution_count": 9,
   "metadata": {
    "collapsed": false
   },
   "outputs": [
    {
     "name": "stdout",
     "output_type": "stream",
     "text": [
      "a^4 + 12*a^3*b + 14*a^2*b^2 - 12*a*b^3 + b^4\n",
      "(-1) * (a^2 + b^2) * (a^4 + 18*a^3*b + 74*a^2*b^2 - 18*a*b^3 + b^4)\n",
      "(-1) * b^5 * a^5 * (a^2 + 11*a*b - b^2)\n"
     ]
    }
   ],
   "source": [
    "print(factor(E5(a,b).c4()))\n",
    "print(factor(E5(a,b).c6()))\n",
    "print(factor(E5(a,b).discriminant()))"
   ]
  },
  {
   "cell_type": "markdown",
   "metadata": {
    "collapsed": false
   },
   "source": [
    "Let $T=C_6$. Below, we give $\\alpha_T, \\beta_T$, and $\\gamma_T$."
   ]
  },
  {
   "cell_type": "code",
   "execution_count": 10,
   "metadata": {
    "collapsed": false
   },
   "outputs": [
    {
     "name": "stdout",
     "output_type": "stream",
     "text": [
      "(a + 3*b) * (a^3 + 9*a^2*b + 3*a*b^2 + 3*b^3)\n",
      "(-1) * (a^2 + 6*a*b - 3*b^2) * (a^4 + 12*a^3*b + 30*a^2*b^2 + 36*a*b^3 + 9*b^4)\n",
      "(a + 9*b) * a^2 * (a + b)^3 * b^6\n"
     ]
    }
   ],
   "source": [
    "print(factor(E6(a,b).c4()))\n",
    "print(factor(E6(a,b).c6()))\n",
    "print(factor(E6(a,b).discriminant()))"
   ]
  },
  {
   "cell_type": "markdown",
   "metadata": {
    "collapsed": false
   },
   "source": [
    "Let $T=C_7$. Below, we give $\\alpha_T, \\beta_T$, and $\\gamma_T$."
   ]
  },
  {
   "cell_type": "code",
   "execution_count": 11,
   "metadata": {
    "collapsed": false
   },
   "outputs": [
    {
     "name": "stdout",
     "output_type": "stream",
     "text": [
      "(a^2 - a*b + b^2) * (a^6 + 5*a^5*b - 10*a^4*b^2 - 15*a^3*b^3 + 30*a^2*b^4 - 11*a*b^5 + b^6)\n",
      "(-1) * (a^12 + 6*a^11*b - 15*a^10*b^2 - 46*a^9*b^3 + 174*a^8*b^4 - 222*a^7*b^5 + 273*a^6*b^6 - 486*a^5*b^7 + 570*a^4*b^8 - 354*a^3*b^9 + 117*a^2*b^10 - 18*a*b^11 + b^12)\n",
      "(-1) * b^7 * a^7 * (a - b)^7 * (a^3 + 5*a^2*b - 8*a*b^2 + b^3)\n"
     ]
    }
   ],
   "source": [
    "print(factor(E7(a,b).c4()))\n",
    "print(factor(E7(a,b).c6()))\n",
    "print(factor(E7(a,b).discriminant()))"
   ]
  },
  {
   "cell_type": "markdown",
   "metadata": {
    "collapsed": false
   },
   "source": [
    "Let $T=C_8$. Below, we give $\\alpha_T, \\beta_T$, and $\\gamma_T$."
   ]
  },
  {
   "cell_type": "code",
   "execution_count": 12,
   "metadata": {
    "collapsed": false
   },
   "outputs": [
    {
     "name": "stdout",
     "output_type": "stream",
     "text": [
      "a^8 - 16*a^7*b + 96*a^6*b^2 - 288*a^5*b^3 + 480*a^4*b^4 - 448*a^3*b^5 + 224*a^2*b^6 - 64*a*b^7 + 16*b^8\n",
      "(-1) * (a^4 - 8*a^3*b + 16*a^2*b^2 - 16*a*b^3 + 8*b^4) * (a^8 - 16*a^7*b + 96*a^6*b^2 - 288*a^5*b^3 + 456*a^4*b^4 - 352*a^3*b^5 + 80*a^2*b^6 + 32*a*b^7 - 8*b^8)\n",
      "a^2 * (a - 2*b)^4 * b^8 * (a - b)^8 * (a^2 - 8*a*b + 8*b^2)\n"
     ]
    }
   ],
   "source": [
    "print(factor(E8(a,b).c4()))\n",
    "print(factor(E8(a,b).c6()))\n",
    "print(factor(E8(a,b).discriminant()))"
   ]
  },
  {
   "cell_type": "markdown",
   "metadata": {
    "collapsed": false
   },
   "source": [
    "Let $T=C_9$. Below, we give $\\alpha_T, \\beta_T$, and $\\gamma_T$."
   ]
  },
  {
   "cell_type": "code",
   "execution_count": 13,
   "metadata": {
    "collapsed": false
   },
   "outputs": [
    {
     "name": "stdout",
     "output_type": "stream",
     "text": [
      "(a^3 - 3*a*b^2 + b^3) * (a^9 - 9*a^7*b^2 + 27*a^6*b^3 - 45*a^5*b^4 + 54*a^4*b^5 - 48*a^3*b^6 + 27*a^2*b^7 - 9*a*b^8 + b^9)\n",
      "(-1) * (a^18 - 18*a^16*b^2 + 42*a^15*b^3 + 27*a^14*b^4 - 306*a^13*b^5 + 735*a^12*b^6 - 1080*a^11*b^7 + 1359*a^10*b^8 - 2032*a^9*b^9 + 3240*a^8*b^10 - 4230*a^7*b^11 + 4128*a^6*b^12 - 2970*a^5*b^13 + 1557*a^4*b^14 - 570*a^3*b^15 + 135*a^2*b^16 - 18*a*b^17 + b^18)\n",
      "(-1) * b^9 * a^9 * (a - b)^9 * (a^2 - a*b + b^2)^3 * (a^3 + 3*a^2*b - 6*a*b^2 + b^3)\n"
     ]
    }
   ],
   "source": [
    "print(factor(E9(a,b).c4()))\n",
    "print(factor(E9(a,b).c6()))\n",
    "print(factor(E9(a,b).discriminant()))"
   ]
  },
  {
   "cell_type": "markdown",
   "metadata": {
    "collapsed": false
   },
   "source": [
    "Let $T=C_{10}$. Below, we give $\\alpha_T, \\beta_T$, and $\\gamma_T$."
   ]
  },
  {
   "cell_type": "code",
   "execution_count": 14,
   "metadata": {
    "collapsed": false
   },
   "outputs": [
    {
     "name": "stdout",
     "output_type": "stream",
     "text": [
      "a^12 - 8*a^11*b + 16*a^10*b^2 + 40*a^9*b^3 - 240*a^8*b^4 + 432*a^7*b^5 - 256*a^6*b^6 - 288*a^5*b^7 + 720*a^4*b^8 - 720*a^3*b^9 + 416*a^2*b^10 - 128*a*b^11 + 16*b^12\n",
      "(-1) * (a^2 - 2*a*b + 2*b^2) * (a^4 - 2*a^3*b + 2*b^4) * (a^4 - 2*a^3*b - 6*a^2*b^2 + 12*a*b^3 - 4*b^4) * (a^8 - 6*a^7*b + 4*a^6*b^2 + 48*a^5*b^3 - 146*a^4*b^4 + 176*a^3*b^5 - 104*a^2*b^6 + 32*a*b^7 - 4*b^8)\n",
      "a^5 * (a - 2*b)^5 * b^10 * (a - b)^10 * (a^2 + 2*a*b - 4*b^2) * (a^2 - 3*a*b + b^2)^2\n"
     ]
    }
   ],
   "source": [
    "print(factor(E10(a,b).c4()))\n",
    "print(factor(E10(a,b).c6()))\n",
    "print(factor(E10(a,b).discriminant()))"
   ]
  },
  {
   "cell_type": "markdown",
   "metadata": {
    "collapsed": false
   },
   "source": [
    "Let $T=C_{12}$. Below, we give $\\alpha_T, \\beta_T$, and $\\gamma_T$."
   ]
  },
  {
   "cell_type": "code",
   "execution_count": 15,
   "metadata": {
    "collapsed": false
   },
   "outputs": [
    {
     "name": "stdout",
     "output_type": "stream",
     "text": [
      "(a^4 - 6*a^3*b + 12*a^2*b^2 - 12*a*b^3 + 6*b^4) * (a^12 - 18*a^11*b + 144*a^10*b^2 - 684*a^9*b^3 + 2154*a^8*b^4 - 4728*a^7*b^5 + 7368*a^6*b^6 - 8112*a^5*b^7 + 6132*a^4*b^8 - 3000*a^3*b^9 + 864*a^2*b^10 - 144*a*b^11 + 24*b^12)\n",
      "(-1) * (a^8 - 12*a^7*b + 60*a^6*b^2 - 168*a^5*b^3 + 288*a^4*b^4 - 312*a^3*b^5 + 216*a^2*b^6 - 96*a*b^7 + 24*b^8) * (a^16 - 24*a^15*b + 264*a^14*b^2 - 1776*a^13*b^3 + 8208*a^12*b^4 - 27696*a^11*b^5 + 70632*a^10*b^6 - 138720*a^9*b^7 + 211296*a^8*b^8 - 248688*a^7*b^9 + 222552*a^6*b^10 - 146304*a^5*b^11 + 65880*a^4*b^12 - 17136*a^3*b^13 + 1008*a^2*b^14 + 576*a*b^15 - 72*b^16)\n",
      "a^2 * (a - 2*b)^6 * b^12 * (a - b)^12 * (a^2 - 6*a*b + 6*b^2) * (a^2 - 2*a*b + 2*b^2)^3 * (a^2 - 3*a*b + 3*b^2)^4\n"
     ]
    }
   ],
   "source": [
    "print(factor(E12(a,b).c4()))\n",
    "print(factor(E12(a,b).c6()))\n",
    "print(factor(E12(a,b).discriminant()))"
   ]
  },
  {
   "cell_type": "markdown",
   "metadata": {
    "collapsed": false
   },
   "source": [
    "Let $T=C_2 \\times C_2$. Below, we give $\\alpha_T, \\beta_T$, and $\\gamma_T$."
   ]
  },
  {
   "cell_type": "code",
   "execution_count": 17,
   "metadata": {
    "collapsed": false
   },
   "outputs": [
    {
     "name": "stdout",
     "output_type": "stream",
     "text": [
      "(16) * d^2 * (a^2 - a*b + b^2)\n",
      "(-32) * (a - 2*b) * (a + b) * (2*a - b) * d^3\n",
      "(16) * b^2 * a^2 * (a - b)^2 * d^6\n"
     ]
    }
   ],
   "source": [
    "print(factor(E22(a,b,d).c4()))\n",
    "print(factor(E22(a,b,d).c6()))\n",
    "print(factor(E22(a,b,d).discriminant()))"
   ]
  },
  {
   "cell_type": "markdown",
   "metadata": {
    "collapsed": false
   },
   "source": [
    "Let $T=C_2 \\times C_4$. Below, we give $\\alpha_T, \\beta_T$, and $\\gamma_T$."
   ]
  },
  {
   "cell_type": "code",
   "execution_count": 18,
   "metadata": {
    "collapsed": false
   },
   "outputs": [
    {
     "name": "stdout",
     "output_type": "stream",
     "text": [
      "a^4 + 16*a^3*b + 80*a^2*b^2 + 128*a*b^3 + 256*b^4\n",
      "(-1) * (a^2 + 8*a*b - 16*b^2) * (a^2 + 8*a*b + 8*b^2) * (a^2 + 8*a*b + 32*b^2)\n",
      "a^2 * (a + 8*b)^2 * b^4 * (a + 4*b)^4\n"
     ]
    }
   ],
   "source": [
    "print(factor(E24(a,b).c4()))\n",
    "print(factor(E24(a,b).c6()))\n",
    "print(factor(E24(a,b).discriminant()))"
   ]
  },
  {
   "cell_type": "markdown",
   "metadata": {
    "collapsed": false
   },
   "source": [
    "Let $T=C_2 \\times C_6$. Below, we give $\\alpha_T, \\beta_T$, and $\\gamma_T$."
   ]
  },
  {
   "cell_type": "code",
   "execution_count": 19,
   "metadata": {
    "collapsed": false
   },
   "outputs": [
    {
     "name": "stdout",
     "output_type": "stream",
     "text": [
      "(21*a^2 - 6*a*b + b^2) * (6861*a^6 - 2178*a^5*b - 825*a^4*b^2 + 180*a^3*b^3 + 75*a^2*b^4 - 18*a*b^5 + b^6)\n",
      "(-1) * (183*a^4 - 36*a^3*b - 30*a^2*b^2 + 12*a*b^3 - b^4) * (393*a^4 - 156*a^3*b + 30*a^2*b^2 - 12*a*b^3 + b^4) * (759*a^4 - 228*a^3*b - 30*a^2*b^2 + 12*a*b^3 - b^4)\n",
      "(64) * (-9*a + b)^2 * (-3*a + b)^2 * (3*a + b)^2 * (-5*a + b)^6 * (-a + b)^6 * a^6\n"
     ]
    }
   ],
   "source": [
    "print(factor(E26(a,b).c4()))\n",
    "print(factor(E26(a,b).c6()))\n",
    "print(factor(E26(a,b).discriminant()))"
   ]
  },
  {
   "cell_type": "markdown",
   "metadata": {
    "collapsed": false
   },
   "source": [
    "Let $T=C_2 \\times C_8$. Below, we give $\\alpha_T, \\beta_T$, and $\\gamma_T$."
   ]
  },
  {
   "cell_type": "code",
   "execution_count": 20,
   "metadata": {
    "collapsed": false
   },
   "outputs": [
    {
     "name": "stdout",
     "output_type": "stream",
     "text": [
      "a^16 + 32*a^15*b + 448*a^14*b^2 + 3584*a^13*b^3 + 17664*a^12*b^4 + 51200*a^11*b^5 + 51200*a^10*b^6 - 237568*a^9*b^7 - 1183744*a^8*b^8 - 1900544*a^7*b^9 + 3276800*a^6*b^10 + 26214400*a^5*b^11 + 72351744*a^4*b^12 + 117440512*a^3*b^13 + 117440512*a^2*b^14 + 67108864*a*b^15 + 16777216*b^16\n",
      "(-1) * (a^8 + 16*a^7*b + 96*a^6*b^2 + 256*a^5*b^3 - 256*a^4*b^4 - 4096*a^3*b^5 - 12288*a^2*b^6 - 16384*a*b^7 - 8192*b^8) * (a^8 + 16*a^7*b + 96*a^6*b^2 + 256*a^5*b^3 + 128*a^4*b^4 - 1024*a^3*b^5 - 3072*a^2*b^6 - 4096*a*b^7 - 2048*b^8) * (a^8 + 16*a^7*b + 96*a^6*b^2 + 256*a^5*b^3 + 512*a^4*b^4 + 2048*a^3*b^5 + 6144*a^2*b^6 + 8192*a*b^7 + 4096*b^8)\n",
      "(256) * b^8 * a^8 * (a + 2*b)^8 * (a + 4*b)^8 * (a^2 - 8*b^2)^2 * (a^2 + 8*a*b + 8*b^2)^2 * (a^2 + 4*a*b + 8*b^2)^4\n"
     ]
    }
   ],
   "source": [
    "print(factor(E28(a,b).c4()))\n",
    "print(factor(E28(a,b).c6()))\n",
    "print(factor(E28(a,b).discriminant()))"
   ]
  }
 ],
 "metadata": {
  "kernelspec": {
   "display_name": "SageMath 9.1",
   "language": "sagemath",
   "metadata": {
    "cocalc": {
     "description": "Open-source mathematical software system",
     "priority": 10,
     "url": "https://www.sagemath.org/"
    }
   },
   "name": "sage-9.1",
   "resource_dir": "/ext/jupyter/kernels/sage-9.1"
  },
  "language_info": {
   "codemirror_mode": {
    "name": "ipython",
    "version": 3
   },
   "file_extension": ".py",
   "mimetype": "text/x-python",
   "name": "python",
   "nbconvert_exporter": "python",
   "pygments_lexer": "ipython3",
   "version": "3.7.3"
  }
 },
 "nbformat": 4,
 "nbformat_minor": 4
}
{
 "cells": [
  {
   "cell_type": "code",
   "execution_count": 1,
   "metadata": {
    "collapsed": false
   },
   "outputs": [
   ],
   "source": [
    "load('models.sage')\n",
    "load('Polynomials.sage')"
   ]
  },
  {
   "cell_type": "markdown",
   "metadata": {
    "collapsed": false
   },
   "source": [
    "Suppose $T=C_2$. The code below verifies Lemma 3.1. Namely, the claimed values of $\\mu_T^{(j)}\\alpha_T + \\nu_T^{(j)}\\beta_T$ for $j\\in\\{1,2,3\\}$."
   ]
  },
  {
   "cell_type": "code",
   "execution_count": 109,
   "metadata": {
    "collapsed": false
   },
   "outputs": [
    {
     "name": "stdout",
     "output_type": "stream",
     "text": [
      "True\n",
      "True\n",
      "True\n"
     ]
    }
   ],
   "source": [
    "K=E2(a,b,d)\n",
    "alp, bet, gam = K.c4(), K.c6(), K.discriminant()\n",
    "print(mu21*alp+nu21*bet==2^8*3^2*(r*b^4*d^2+s*a^3))\n",
    "print(mu22*alp+nu22*gam==2^10*(r*b^6*d^3+s*a^6))\n",
    "print(mu23*bet+nu23*gam==2^12*(r*b^8*d^4+s*a^7))"
   ]
  },
  {
   "cell_type": "markdown",
   "metadata": {
    "collapsed": false
   },
   "source": [
    "Suppose $T=C_3$. The code below verifies Lemma 3.1. Namely, the claimed values of $\\mu_T^{(j)}\\alpha_T + \\nu_T^{(j)}\\beta_T$ for $j\\in\\{1,2,3\\}$."
   ]
  },
  {
   "cell_type": "code",
   "execution_count": 60,
   "metadata": {
    "collapsed": false
   },
   "outputs": [
    {
     "name": "stdout",
     "output_type": "stream",
     "text": [
      "True\n",
      "True\n",
      "True\n"
     ]
    }
   ],
   "source": [
    "K=E3(a,b)\n",
    "alp, bet, gam = K.c4(), K.c6(), K.discriminant()\n",
    "print(mu31*alp+nu31*bet==2^6*3^3*a^3*(r*a^3+s*b^3))\n",
    "print(mu32*alp+nu32*gam==2^15*3^6*a^3*(r*a^9+s*b^9))\n",
    "print(mu33*bet+nu33*gam==2^6*3^9*a^4*(r*a^9+s*b^9))"
   ]
  },
  {
   "cell_type": "markdown",
   "metadata": {
    "collapsed": false
   },
   "source": [
    "Suppose $T=C_4$. The code below verifies Lemma 3.1. Namely, the claimed values of $\\mu_T^{(j)}\\alpha_T + \\nu_T^{(j)}\\beta_T$ for $j\\in\\{1,2,3\\}$."
   ]
  },
  {
   "cell_type": "code",
   "execution_count": 65,
   "metadata": {
    "collapsed": false
   },
   "outputs": [
    {
     "name": "stdout",
     "output_type": "stream",
     "text": [
      "True\n",
      "True\n",
      "True\n"
     ]
    }
   ],
   "source": [
    "K=E4(a,b)\n",
    "alp, bet, gam = K.c4(), K.c6(), K.discriminant()\n",
    "print(mu41*alp+nu41*bet==2^8*3^2*a^2*(r*a^5+s*b^5))\n",
    "print(mu42*alp+nu42*gam==2^12*a^2*(r*a^12+s*b^11))\n",
    "print(mu43*bet+nu43*gam==2^18*a^3*(r*a^11+s*b^11))"
   ]
  },
  {
   "cell_type": "markdown",
   "metadata": {
    "collapsed": false
   },
   "source": [
    "Suppose $T=C_5$. The code below verifies Lemma 3.1. Namely, the claimed values of $\\mu_T^{(j)}\\alpha_T + \\nu_T^{(j)}\\beta_T$ for $j\\in\\{1,2,3\\}$."
   ]
  },
  {
   "cell_type": "code",
   "execution_count": 76,
   "metadata": {
    "collapsed": false
   },
   "outputs": [
    {
     "name": "stdout",
     "output_type": "stream",
     "text": [
      "True\n",
      "True\n",
      "True\n"
     ]
    }
   ],
   "source": [
    "K=E5(a,b)\n",
    "alp, bet, gam = K.c4(), K.c6(), K.discriminant()\n",
    "print(mu51*alp+nu51*bet==2^4*3^2*5*(r*a^9+s*b^9))\n",
    "print(mu52*alp+nu52*gam==5*(r*a^15+s*b^15))\n",
    "print(mu53*bet+nu53*gam==5^3*(r*a^17+s*b^17))"
   ]
  },
  {
   "cell_type": "markdown",
   "metadata": {
    "collapsed": false
   },
   "source": [
    "Suppose $T=C_6$. The code below verifies Lemma 3.1. Namely, the claimed values of $\\mu_T^{(j)}\\alpha_T + \\nu_T^{(j)}\\beta_T$ for $j\\in\\{1,2,3\\}$."
   ]
  },
  {
   "cell_type": "code",
   "execution_count": 79,
   "metadata": {
    "collapsed": false
   },
   "outputs": [
    {
     "name": "stdout",
     "output_type": "stream",
     "text": [
      "True\n",
      "True\n",
      "True\n"
     ]
    }
   ],
   "source": [
    "K=E6(a,b)\n",
    "alp, bet, gam = K.c4(), K.c6(), K.discriminant()\n",
    "print(mu61*alp+nu61*bet==2^7*3^4*(r*a^9+s*b^9))\n",
    "print(mu62*alp+nu62*gam==2^4*3^4*(r*a^15+s*b^15))\n",
    "print(mu63*bet+nu63*gam==2^9*3^3*(r*a^17+s*b^17))"
   ]
  },
  {
   "cell_type": "markdown",
   "metadata": {
    "collapsed": false
   },
   "source": [
    "Suppose $T=C_7$. The code below verifies Lemma 3.1. Namely, the claimed values of $\\mu_T^{(j)}\\alpha_T + \\nu_T^{(j)}\\beta_T$ for $j\\in\\{1,2,3\\}$."
   ]
  },
  {
   "cell_type": "code",
   "execution_count": 81,
   "metadata": {
    "collapsed": false
   },
   "outputs": [
    {
     "name": "stdout",
     "output_type": "stream",
     "text": [
      "True\n",
      "True\n",
      "True\n"
     ]
    }
   ],
   "source": [
    "K=E7(a,b)\n",
    "alp, bet, gam = K.c4(), K.c6(), K.discriminant()\n",
    "print(mu71*alp+nu71*bet==2^4*3^2*7*(r*a^19+s*b^19))\n",
    "print(mu72*alp+nu72*gam==7^2*(r*a^31+s*b^31))\n",
    "print(mu73*bet+nu73*gam==7*(r*a^35+s*b^35))"
   ]
  },
  {
   "cell_type": "markdown",
   "metadata": {
    "collapsed": false
   },
   "source": [
    "Suppose $T=C_8$. The code below verifies Lemma 3.1. Namely, the claimed values of $\\mu_T^{(j)}\\alpha_T + \\nu_T^{(j)}\\beta_T$ for $j\\in\\{1,2,3\\}$."
   ]
  },
  {
   "cell_type": "code",
   "execution_count": 82,
   "metadata": {
    "collapsed": false
   },
   "outputs": [
    {
     "name": "stdout",
     "output_type": "stream",
     "text": [
      "True\n",
      "True\n",
      "True\n"
     ]
    }
   ],
   "source": [
    "K=E8(a,b)\n",
    "alp, bet, gam = K.c4(), K.c6(), K.discriminant()\n",
    "print(mu81*alp+nu81*bet==2^7*3^2*(r*a^18+s*b^19))\n",
    "print(mu82*alp+nu82*gam==2^4*(r*a^30+s*b^31))\n",
    "print(mu83*bet+nu83*gam==2^9*(r*a^34+s*b^35))"
   ]
  },
  {
   "cell_type": "markdown",
   "metadata": {
    "collapsed": false
   },
   "source": [
    "Suppose $T=C_9$. The code below verifies Lemma 3.1. Namely, the claimed values of $\\mu_T^{(j)}\\alpha_T + \\nu_T^{(j)}\\beta_T$ for $j\\in\\{1,2,3\\}$."
   ]
  },
  {
   "cell_type": "code",
   "execution_count": 83,
   "metadata": {
    "collapsed": false
   },
   "outputs": [
    {
     "name": "stdout",
     "output_type": "stream",
     "text": [
      "True\n",
      "True\n",
      "True\n"
     ]
    }
   ],
   "source": [
    "K=E9(a,b)\n",
    "alp, bet, gam = K.c4(), K.c6(), K.discriminant()\n",
    "print(mu91*alp+nu91*bet==2^4*3^4*(r*a^29+s*b^29))\n",
    "print(mu92*alp+nu92*gam==3^4*(r*a^47+s*b^47))\n",
    "print(mu93*bet+nu93*gam==3^3*(r*a^53+s*b^53))"
   ]
  },
  {
   "cell_type": "markdown",
   "metadata": {
    "collapsed": false
   },
   "source": [
    "Suppose $T=C_{10}$. The code below verifies Lemma 3.1. Namely, the claimed values of $\\mu_T^{(j)}\\alpha_T + \\nu_T^{(j)}\\beta_T$ for $j\\in\\{1,2,3\\}$."
   ]
  },
  {
   "cell_type": "code",
   "execution_count": 84,
   "metadata": {
    "collapsed": false
   },
   "outputs": [
    {
     "name": "stdout",
     "output_type": "stream",
     "text": [
      "True\n",
      "True\n",
      "True\n"
     ]
    }
   ],
   "source": [
    "K=E10(a,b)\n",
    "alp, bet, gam = K.c4(), K.c6(), K.discriminant()\n",
    "print(mu101*alp+nu101*bet==2^7*3^2*5*(r*a^29+s*b^29))\n",
    "print(mu102*alp+nu102*gam==2^4*5*(r*a^47+s*b^47))\n",
    "print(mu103*bet+nu103*gam==2^9*5^3*(r*a^53+s*b^53))"
   ]
  },
  {
   "cell_type": "markdown",
   "metadata": {
    "collapsed": false
   },
   "source": [
    "Suppose $T=C_{12}$. The code below verifies Lemma 3.1. Namely, the claimed values of $\\mu_T^{(j)}\\alpha_T + \\nu_T^{(j)}\\beta_T$ for $j\\in\\{1,2,3\\}$."
   ]
  },
  {
   "cell_type": "code",
   "execution_count": 90,
   "metadata": {
    "collapsed": false
   },
   "outputs": [
    {
     "name": "stdout",
     "output_type": "stream",
     "text": [
      "True\n",
      "True\n",
      "True\n"
     ]
    }
   ],
   "source": [
    "K=E12(a,b)\n",
    "alp, bet, gam = K.c4(), K.c6(), K.discriminant()\n",
    "print(mu121*alp+nu121*bet==2^7*3^4*(r*a^38+s*b^39))\n",
    "print(mu122*alp+nu122*gam==2^4*3^4*(r*a^62+s*b^63))\n",
    "print(mu123*bet+nu123*gam==2^9*3^3*(r*a^70+s*b^71))"
   ]
  },
  {
   "cell_type": "markdown",
   "metadata": {
    "collapsed": false
   },
   "source": [
    "Suppose $T=C_2 \\times C_2$. The code below verifies Lemma 3.1. Namely, the claimed values of $\\mu_T^{(j)}\\alpha_T + \\nu_T^{(j)}\\beta_T$ for $j\\in\\{1,2,3\\}$."
   ]
  },
  {
   "cell_type": "code",
   "execution_count": 92,
   "metadata": {
    "collapsed": false
   },
   "outputs": [
    {
     "name": "stdout",
     "output_type": "stream",
     "text": [
      "True\n",
      "True\n",
      "True\n"
     ]
    }
   ],
   "source": [
    "K=E22(a,b,d)\n",
    "alp, bet, gam = K.c4(), K.c6(), K.discriminant()\n",
    "print(mu221*alp+nu221*bet==2^5*3^2*d^4*(r*a^4+s*b^4))\n",
    "print(mu222*alp+nu222*gam==2^4*d^6*(r*a^6+s*b^6))\n",
    "print(mu223*bet+nu223*gam==2^7*d^8*(r*a^8+s*b^8))"
   ]
  },
  {
   "cell_type": "markdown",
   "metadata": {
    "collapsed": false
   },
   "source": [
    "Suppose $T=C_2 \\times C_4$. The code below verifies Lemma 3.1. Namely, the claimed values of $\\mu_T^{(j)}\\alpha_T + \\nu_T^{(j)}\\beta_T$ for $j\\in\\{1,2,3\\}$."
   ]
  },
  {
   "cell_type": "code",
   "execution_count": 111,
   "metadata": {
    "collapsed": false
   },
   "outputs": [
    {
     "name": "stdout",
     "output_type": "stream",
     "text": [
      "True\n",
      "True\n",
      "True\n"
     ]
    }
   ],
   "source": [
    "K=E24(a,b)\n",
    "alp, bet, gam = K.c4(), K.c6(), K.discriminant()\n",
    "print(mu241*alp+nu241*bet==2^14*3^2*(r*a^8+s*b^8))\n",
    "print(mu242*alp+nu242*gam==2^16*(r*a^14+s*b^12))\n",
    "print(mu243*bet+nu243*gam==2^24*(r*a^16+s*b^16))"
   ]
  },
  {
   "cell_type": "markdown",
   "metadata": {
    "collapsed": false
   },
   "source": [
    "Suppose $T=C_2 \\times C_6$. The code below verifies Lemma 3.1. Namely, the claimed values of $\\mu_T^{(j)}\\alpha_T + \\nu_T^{(j)}\\beta_T$ for $j\\in\\{1,2,3\\}$."
   ]
  },
  {
   "cell_type": "code",
   "execution_count": 95,
   "metadata": {
    "collapsed": false
   },
   "outputs": [
    {
     "name": "stdout",
     "output_type": "stream",
     "text": [
      "True\n",
      "True\n",
      "True\n"
     ]
    }
   ],
   "source": [
    "K=E26(a,b)\n",
    "alp, bet, gam = K.c4(), K.c6(), K.discriminant()\n",
    "print(mu261*alp+nu261*bet==2^31*3^4*(r*a^18+s*b^19))\n",
    "print(mu262*alp+nu262*gam==2^45*3^4*(r*a^30+s*b^31))\n",
    "print(mu263*bet+nu263*gam==2^56*3^3*(r*a^34+s*b^35))"
   ]
  },
  {
   "cell_type": "markdown",
   "metadata": {
    "collapsed": false
   },
   "source": [
    "Suppose $T=C_2 \\times C_8$. The code below verifies Lemma 3.1. Namely, the claimed values of $\\mu_T^{(j)}\\alpha_T + \\nu_T^{(j)}\\beta_T$ for $j\\in\\{1,2,3\\}$."
   ]
  },
  {
   "cell_type": "code",
   "execution_count": 96,
   "metadata": {
    "collapsed": false
   },
   "outputs": [
    {
     "name": "stdout",
     "output_type": "stream",
     "text": [
      "True\n",
      "True\n",
      "True\n"
     ]
    }
   ],
   "source": [
    "K=E28(a,b)\n",
    "alp, bet, gam = K.c4(), K.c6(), K.discriminant()\n",
    "print(mu281*alp+nu281*bet==2^49*3^2*(r*a^38+s*b^38))\n",
    "print(mu282*alp+nu282*gam==2^74*(r*a^62+s*b^62))\n",
    "print(mu283*bet+nu283*gam==2^90*(r*a^70+s*b^70))"
   ]
  },
  {
   "cell_type": "code",
   "execution_count": 0,
   "metadata": {
    "collapsed": false
   },
   "outputs": [
   ],
   "source": [
   ]
  }
 ],
 "metadata": {
  "kernelspec": {
   "display_name": "SageMath 9.1",
   "language": "sagemath",
   "metadata": {
    "cocalc": {
     "description": "Open-source mathematical software system",
     "priority": 10,
     "url": "https://www.sagemath.org/"
    }
   },
   "name": "sage-9.1",
   "resource_dir": "/ext/jupyter/kernels/sage-9.1"
  },
  "language_info": {
   "codemirror_mode": {
    "name": "ipython",
    "version": 3
   },
   "file_extension": ".py",
   "mimetype": "text/x-python",
   "name": "python",
   "nbconvert_exporter": "python",
   "pygments_lexer": "ipython3",
   "version": "3.7.3"
  }
 },
 "nbformat": 4,
 "nbformat_minor": 4
}